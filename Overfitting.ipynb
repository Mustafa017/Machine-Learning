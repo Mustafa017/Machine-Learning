{
 "cells": [
  {
   "cell_type": "code",
   "execution_count": 11,
   "metadata": {
    "_cell_guid": "dcebd894-ad6f-4b19-a0b1-e8e83f8698ec",
    "_uuid": "665f108a2a9d04ab1ef7f0549ff5aa0ff5c05c44",
    "collapsed": true
   },
   "outputs": [],
   "source": [
    "# This Python 3 environment comes with many helpful analytics libraries installed\n",
    "import numpy as np # linear algebra\n",
    "import pylab as pl # data processing, CSV file I/O (e.g. pd.read_csv)\n",
    "\n"
   ]
  },
  {
   "cell_type": "markdown",
   "metadata": {
    "_uuid": "9669434afaeb7c59ba638993324e9449a6e7c29f"
   },
   "source": [
    "# Training data generation\n",
    "First we will write a function to generate a random sample. The data generation model is the following:\n",
    "$$r(x) = f(x) + \\epsilon$$\n",
    "     \n",
    "      \n",
    "   $\\epsilon\\sim\\mathcal{N}(0,1)$\n",
    "      "
   ]
  },
  {
   "cell_type": "code",
   "execution_count": 22,
   "metadata": {
    "_uuid": "880148831f1fceee1a0c96656d0d23baf278679b",
    "collapsed": false
   },
   "outputs": [
    {
     "data": {
      "text/plain": [
       "[<matplotlib.lines.Line2D at 0x7fe0c2782ac8>]"
      ]
     },
     "execution_count": 22,
     "metadata": {},
     "output_type": "execute_result"
    },
    {
     "data": {
      "image/png": "[encoded data removed]",
      "text/plain": [
       "<matplotlib.figure.Figure at 0x7fe0c27ce240>"
      ]
     },
     "metadata": {},
     "output_type": "display_data"
    }
   ],
   "source": [
    "def f(size):\n",
    "    #returns a sample with 'size' instances without noise.\n",
    "    x = np.linspace(0,4.5,size) #making list of arbitrary length containing evenly spaced numbers.\n",
    "    #Note the Range() function only deals with integers. \n",
    "    y = 2 * np.sin(x*1.5)\n",
    "    return(x,y)\n",
    "#print(f(50))\n",
    "\n",
    "def sample(size):\n",
    "    #returns a sample with 'size' instances\n",
    "    x = np.linspace(0,4.5,size)\n",
    "    y = 2 * np.sin(x*1.5) + pl.randn(x.size)\n",
    "    return(x,y)\n",
    "    #If positive, int_like or int-convertible arguments are provided,\n",
    "#`randn` generates an array of shape ``(d0, d1, ..., dn)``, filled\n",
    "#with random floats sampled from a univariate \"normal\" (Gaussian)\n",
    "#distribution of mean 0 and variance 1.\n",
    "\n",
    "pl.clf() #plt.clf() clears the entire current figure with all its axes, but leaves the window opened, such that it may be reused for other plots.\n",
    "f_x,f_y = f(50)\n",
    "pl.plot(f_x,f_y)\n",
    "x,y = sample(50)\n",
    "pl.plot(x,y,'k.')"
   ]
  },
  {
   "cell_type": "markdown",
   "metadata": {
    "_uuid": "bd972d9d1443ba1f62d0ddb98f081bd3a0f8ce48"
   },
   "source": [
    "# Model fitting\n",
    "We will use Least Square Regression (LSR) to fit a polynomial to the data. Actually we will use multivariate linear regression, over a dataset built in the following way:\n",
    "\n",
    "For each sample $x_{i}$ we build a vector $(1 , x_{i} , x_{i}^{2} , \\dots , x_{i}^{n})$ and we use LSR to fit a function $g:\\mathbb{R}^{n+1}\\rightarrow\\mathbb{R}$ to the training data."
   ]
  },
  {
   "cell_type": "code",
   "execution_count": 27,
   "metadata": {
    "_uuid": "c6c9aebcb5efba933f2a1755f105b54d7ee631e7",
    "collapsed": false
   },
   "outputs": [
    {
     "name": "stdout",
     "output_type": "stream",
     "text": [
      "[[ 1  1  1  1]\n",
      " [ 8  4  2  1]\n",
      " [27  9  3  1]]\n"
     ]
    }
   ],
   "source": [
    "#This illustrates how vander function works\n",
    "x1 = np.array([1,2,3])\n",
    "print(np.vander(x1,4))"
   ]
  },
  {
   "cell_type": "code",
   "execution_count": 31,
   "metadata": {
    "_uuid": "3f602779b6513613fbae2d00b4c3fadbb8bd6be8",
    "collapsed": false
   },
   "outputs": [
    {
     "data": {
      "text/plain": [
       "[<matplotlib.lines.Line2D at 0x7fe064037c18>]"
      ]
     },
     "execution_count": 31,
     "metadata": {},
     "output_type": "execute_result"
    },
    {
     "data": {
      "image/png": "[encoded data removed]",
      "text/plain": [
       "<matplotlib.figure.Figure at 0x7fe0c28597f0>"
      ]
     },
     "metadata": {},
     "output_type": "display_data"
    }
   ],
   "source": [
    "from sklearn.linear_model import LinearRegression\n",
    "\n",
    "def fit_polynomial(x,y,degree):\n",
    "    #Fits a polynomial to the input sample\n",
    "    #(x,y): input sample\n",
    "    #degree: polynomial degree\n",
    "    model = LinearRegression()\n",
    "    model.fit(np.vander(x,degree+1),y)\n",
    "    return model\n",
    "\n",
    "def apply_polynomial(model,x):\n",
    "    #Evaluates a linear regression model in an input sample.\n",
    "    #model:Linear regression model\n",
    "    #x: input sample\n",
    "    degree = model.coef_.size - 1\n",
    "    y_pred = model.predict(np.vander(x,degree+1))\n",
    "    return y_pred\n",
    "\n",
    "model = fit_polynomial(x,y,8)\n",
    "p_y = apply_polynomial(model,x)\n",
    "pl.plot(f_x,f_y)\n",
    "pl.plot(x,y,'k.')\n",
    "pl.plot(x,p_y)"
   ]
  },
  {
   "cell_type": "code",
   "execution_count": null,
   "metadata": {
    "_uuid": "fb57b2e3ed227dbecf13084db7ce198880d612bb",
    "collapsed": true
   },
   "outputs": [],
   "source": []
  }
 ],
 "metadata": {
  "anaconda-cloud": {},
  "kernelspec": {
   "display_name": "Python [default]",
   "language": "python",
   "name": "python3"
  },
  "language_info": {
   "codemirror_mode": {
    "name": "ipython",
    "version": 3
   },
   "file_extension": ".py",
   "mimetype": "text/x-python",
   "name": "python",
   "nbconvert_exporter": "python",
   "pygments_lexer": "ipython3",
   "version": "3.5.2"
  }
 },
 "nbformat": 4,
 "nbformat_minor": 1
}
