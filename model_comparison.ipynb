{
 "cells": [
  {
   "cell_type": "code",
   "execution_count": 1,
   "metadata": {
    "_cell_guid": "2faa6784-8d23-483f-93ce-c1ce0c7965c5",
    "_uuid": "a1194f2fa32c8c1680a90ccc2efcd54bec62d396"
   },
   "outputs": [],
   "source": [
    "# This Python 3 environment comes with many helpful analytics libraries installed\n",
    "# It is defined by the kaggle/python docker image: https://github.com/kaggle/docker-python\n",
    "# For example, here's several helpful packages to load in \n",
    "\n",
    "import numpy as np # linear algebra\n",
    "import pandas as pd # data processing, CSV file I/O (e.g. pd.read_csv)\n",
    "\n"
   ]
  },
  {
   "cell_type": "markdown",
   "metadata": {
    "_cell_guid": "262f9c86-2ef5-4659-bd52-bd9d5175db61",
    "_uuid": "faf27ad192d4ece6e4d18c4699050d7bde8a1f91",
    "collapsed": true
   },
   "source": [
    "# Procedure 1: Train and test on the entire dataset"
   ]
  },
  {
   "cell_type": "markdown",
   "metadata": {
    "_cell_guid": "241b99f8-58ab-4e1a-99e4-b4a184222804",
    "_uuid": "f01cdfeb9258f59713f85aedf62c25fd64b496d9"
   },
   "source": [
    "1. Train the model on the **entire dataset.**\n",
    "2. Test the model on the **same dataset** , and evaluate how well we did by comparing the predicted response values with the true response values."
   ]
  },
  {
   "cell_type": "code",
   "execution_count": 2,
   "metadata": {
    "_cell_guid": "6c143f4d-f706-4cde-9640-1b315bdd2222",
    "_uuid": "045271a222cee3f13bf3445cc738fdd941ed5eaa"
   },
   "outputs": [],
   "source": [
    "from sklearn.datasets import load_iris\n",
    "iris = load_iris()\n",
    "X = iris.data\n",
    "y= iris.target"
   ]
  },
  {
   "cell_type": "markdown",
   "metadata": {
    "_cell_guid": "65768180-6280-4add-a7c8-3e0dbfe30105",
    "_uuid": "502cdbc7628cee9f3d3b2985c43e3c218531bd23"
   },
   "source": [
    "# Logistics Regression"
   ]
  },
  {
   "cell_type": "code",
   "execution_count": 3,
   "metadata": {
    "_cell_guid": "b03ce4bd-2835-489d-8c15-842425ea0c37",
    "_uuid": "69fbefb0a993b2de5e67f55cec8888bebe05b9b3"
   },
   "outputs": [
    {
     "data": {
      "text/plain": [
       "array([0, 0, 0, 0, 0, 0, 0, 0, 0, 0, 0, 0, 0, 0, 0, 0, 0, 0, 0, 0, 0, 0,\n",
       "       0, 0, 0, 0, 0, 0, 0, 0, 0, 0, 0, 0, 0, 0, 0, 0, 0, 0, 0, 0, 0, 0,\n",
       "       0, 0, 0, 0, 0, 0, 1, 1, 1, 1, 1, 1, 1, 1, 1, 1, 1, 1, 1, 1, 1, 1,\n",
       "       2, 1, 1, 1, 2, 1, 1, 1, 1, 1, 1, 1, 1, 1, 1, 1, 1, 2, 2, 2, 1, 1,\n",
       "       1, 1, 1, 1, 1, 1, 1, 1, 1, 1, 1, 1, 2, 2, 2, 2, 2, 2, 2, 2, 2, 2,\n",
       "       2, 2, 2, 2, 2, 2, 2, 2, 2, 2, 2, 2, 2, 2, 2, 2, 2, 2, 2, 1, 2, 2,\n",
       "       2, 2, 2, 2, 2, 2, 2, 2, 2, 2, 2, 2, 2, 2, 2, 2, 2, 2])"
      ]
     },
     "execution_count": 3,
     "metadata": {},
     "output_type": "execute_result"
    }
   ],
   "source": [
    "from sklearn.linear_model import LogisticRegression\n",
    "logreg = LogisticRegression()\n",
    "logreg.fit(X,y)\n",
    "#predict the response values for the observations in X\n",
    "logreg.predict(X)"
   ]
  },
  {
   "cell_type": "code",
   "execution_count": 4,
   "metadata": {
    "_cell_guid": "4331a1e2-4ecf-4b40-8af0-228f24a15eab",
    "_uuid": "e6fa980dc6d01935f1c9f149894e7dab3684fe19"
   },
   "outputs": [
    {
     "data": {
      "text/plain": [
       "150"
      ]
     },
     "execution_count": 4,
     "metadata": {},
     "output_type": "execute_result"
    }
   ],
   "source": [
    "len(logreg.predict(X))"
   ]
  },
  {
   "cell_type": "markdown",
   "metadata": {
    "_cell_guid": "77a68230-f0c1-4c23-a3ce-6f1510e26a2d",
    "_uuid": "8dc025cef5d0dc14d21130cc2e57c4770621d82f"
   },
   "source": [
    "   ## classification accuracy\n",
    "   * **proportion** of correct predictions\n",
    "   * common **evaluation metric** for classification problems"
   ]
  },
  {
   "cell_type": "code",
   "execution_count": 5,
   "metadata": {
    "_cell_guid": "ae44b22c-db2e-44c0-8f2f-1e8e19734a4a",
    "_uuid": "64d05fb69d39e77d75a9c4ba63df221ee26e7e85"
   },
   "outputs": [
    {
     "name": "stdout",
     "output_type": "stream",
     "text": [
      "0.96\n"
     ]
    }
   ],
   "source": [
    "# compute classification accuracy for logistics regression model\n",
    "from sklearn import metrics\n",
    "print (metrics.accuracy_score(y,logreg.predict(X)))"
   ]
  },
  {
   "cell_type": "markdown",
   "metadata": {
    "_cell_guid": "ff52a642-1df0-4059-9510-ec0728e8bc04",
    "_uuid": "fa234b091c9f33f9a64897c87528096ee5983abb"
   },
   "source": [
    "* known as **training accuracy** when you train and test the model on the same data"
   ]
  },
  {
   "cell_type": "markdown",
   "metadata": {
    "_cell_guid": "d3cf338d-d5b1-4da9-bd89-e57dec50eb2e",
    "_uuid": "20344b31839dddd3966cbfe27d4baae7cf8d90da"
   },
   "source": [
    "# KNN (K = 5)"
   ]
  },
  {
   "cell_type": "code",
   "execution_count": 6,
   "metadata": {
    "_cell_guid": "2a6d698e-3262-473a-8efd-98ede8875466",
    "_uuid": "e62e62b56e0a54bc0d439e41332794d599b26649"
   },
   "outputs": [
    {
     "name": "stdout",
     "output_type": "stream",
     "text": [
      "0.9666666666666667\n"
     ]
    }
   ],
   "source": [
    "from sklearn.neighbors import KNeighborsClassifier\n",
    "knn = KNeighborsClassifier(n_neighbors=5)\n",
    "knn.fit(X,y)\n",
    "y_pred = knn.predict(X)\n",
    "print(metrics.accuracy_score(y,y_pred))"
   ]
  },
  {
   "cell_type": "markdown",
   "metadata": {
    "_cell_guid": "cdaae898-9be6-4b9e-949f-c6afac41435f",
    "_uuid": "92719664a585c8c3933d8801a1a897e6b7949422"
   },
   "source": [
    "# KNN (K = 1)"
   ]
  },
  {
   "cell_type": "code",
   "execution_count": 7,
   "metadata": {
    "_cell_guid": "e8afb2cb-6f13-4e72-abd9-a2e7a07979d0",
    "_uuid": "119bbc08f9eda15d1420bba83c54e7309ebf493f"
   },
   "outputs": [
    {
     "name": "stdout",
     "output_type": "stream",
     "text": [
      "1.0\n"
     ]
    }
   ],
   "source": [
    "knn = KNeighborsClassifier(n_neighbors=1)\n",
    "knn.fit(X,y)\n",
    "y_pred = knn.predict(X)\n",
    "print(metrics.accuracy_score(y,y_pred))"
   ]
  },
  {
   "cell_type": "markdown",
   "metadata": {
    "_cell_guid": "e6d8d08e-01ec-4789-b371-ce8df1d35c71",
    "_uuid": "14701fd8ac0c529cd5d71fabbb6ecb3e4ddb4e6c"
   },
   "source": []
  },
  {
   "cell_type": "markdown",
   "metadata": {
    "_cell_guid": "cec236bf-7adb-4ae7-b821-10ad93904921",
    "_uuid": "b14f36f6932945ad25e7961795a4fbfc221956e8"
   },
   "source": [
    "# Problem with training and testing on the same data\n",
    "* Goal is to estimate likely perfomance of a model on **out-of-sample data**.\n",
    "* But, maximizing training accuracy rewards **overly complex models** that wont necessarily generalize.\n",
    "* Unnecessarily complex models **overfit** the training data."
   ]
  },
  {
   "cell_type": "markdown",
   "metadata": {
    "_cell_guid": "c181670b-5586-49ae-9efb-303861ece4f9",
    "_uuid": "b7652d6fcf7afe7d2c795882c8b39f103aa213f1"
   },
   "source": [
    "# Procedure 2: Train/ Test split\n",
    "1. Split the dataset into two pieces: **training set** and **testing set**\n",
    "2. Train the model on the **training set**\n",
    "3. Test the model on the **testing set**, and evaluate how well we did."
   ]
  },
  {
   "cell_type": "code",
   "execution_count": 8,
   "metadata": {
    "_cell_guid": "56b5443e-fd5e-4dce-b550-9cd025901ac6",
    "_uuid": "b49be1062b8523f8d375b12b9a6152a8f042eb0a"
   },
   "outputs": [],
   "source": [
    "#STEP 1: split X and y into training and testing sets\n",
    "from sklearn.model_selection import train_test_split\n",
    "X_train,X_test,y_train,y_test = train_test_split(X,y,test_size = 0.4, random_state = 4) #test_size defines amount of size for test data. in this case, it is 40%.\n",
    "#random_state splits the data the exact same way every time."
   ]
  },
  {
   "cell_type": "markdown",
   "metadata": {
    "_cell_guid": "2522fd50-2d46-48d4-a516-2bdbedcba7cb",
    "_uuid": "957f671335749f53f05567498ea42d60d523b2cc"
   },
   "source": [
    "## What do we accomplish using this procedure?\n",
    "* Model can be trained and tested on **different data**.\n",
    "* Response values are known for the training set, and thus **predictions can be evaluated**.\n",
    "* **Testing accuracy** is a better estimate than **training accuracy** on **out-of-sample performance**."
   ]
  },
  {
   "cell_type": "code",
   "execution_count": 9,
   "metadata": {
    "_cell_guid": "b7b6ea86-57d1-4801-8600-e2a9bcdb84b2",
    "_uuid": "ee5bd1abf229a00d4f932dc0cd6ceed9f2e17213"
   },
   "outputs": [
    {
     "name": "stdout",
     "output_type": "stream",
     "text": [
      "(150, 4)\n",
      "(150,)\n"
     ]
    }
   ],
   "source": [
    "print(X.shape)\n",
    "print(y.shape)"
   ]
  },
  {
   "cell_type": "code",
   "execution_count": 10,
   "metadata": {
    "_cell_guid": "6a8319a4-5bee-4278-a211-db10f80ef93c",
    "_uuid": "b2be48e8be19a2ee78d8ef4f13571e2439bb665c"
   },
   "outputs": [
    {
     "name": "stdout",
     "output_type": "stream",
     "text": [
      "(90, 4)\n",
      "(60, 4)\n"
     ]
    }
   ],
   "source": [
    "print(X_train.shape)\n",
    "print(X_test.shape)"
   ]
  },
  {
   "cell_type": "code",
   "execution_count": 11,
   "metadata": {
    "_cell_guid": "3431a7dc-bfa8-4bdc-b600-36bb63de37c8",
    "_uuid": "a99e0887a820b1dd8fdf38e8221c28f443b9b4f3"
   },
   "outputs": [
    {
     "name": "stdout",
     "output_type": "stream",
     "text": [
      "(90,)\n",
      "(60,)\n"
     ]
    }
   ],
   "source": [
    "print(y_train.shape)\n",
    "print(y_test.shape)"
   ]
  },
  {
   "cell_type": "code",
   "execution_count": 12,
   "metadata": {
    "_cell_guid": "76388b04-92e0-4023-bc47-7e781143ef7f",
    "_uuid": "9b080546de40ad543209d05a1d4aa8b7c1e880f8"
   },
   "outputs": [
    {
     "data": {
      "text/plain": [
       "LogisticRegression(C=1.0, class_weight=None, dual=False, fit_intercept=True,\n",
       "          intercept_scaling=1, max_iter=100, multi_class='ovr', n_jobs=1,\n",
       "          penalty='l2', random_state=None, solver='liblinear', tol=0.0001,\n",
       "          verbose=0, warm_start=False)"
      ]
     },
     "execution_count": 12,
     "metadata": {},
     "output_type": "execute_result"
    }
   ],
   "source": [
    "#STEP 2: Train the model on the training set\n",
    "logreg = LogisticRegression()\n",
    "logreg.fit(X_train,y_train)"
   ]
  },
  {
   "cell_type": "code",
   "execution_count": 13,
   "metadata": {
    "_cell_guid": "0db7755f-d79d-44b2-9ae1-c3320fe13bbb",
    "_uuid": "3aa90b1473d124f3f36232052a213e8fb6f4fa2f"
   },
   "outputs": [
    {
     "name": "stdout",
     "output_type": "stream",
     "text": [
      "0.95\n"
     ]
    }
   ],
   "source": [
    "#STEP 3: make predictions on the testing set\n",
    "y_pred = logreg.predict(X_test)\n",
    "print(metrics.accuracy_score(y_test,y_pred))"
   ]
  },
  {
   "cell_type": "markdown",
   "metadata": {
    "_cell_guid": "e71910ae-893a-48cc-928d-949fbdeb6beb",
    "_uuid": "16d858c7a884fd6b8a014f967013eed42a9eb16c"
   },
   "source": [
    "# Repeat for KNN with K = 5"
   ]
  },
  {
   "cell_type": "code",
   "execution_count": 14,
   "metadata": {
    "_cell_guid": "5eabf48c-f6ee-4ac3-b6b7-bfa4b12f73e4",
    "_uuid": "a8849c011a421d22570ec2fc95214f0c6d4b3a52"
   },
   "outputs": [
    {
     "name": "stdout",
     "output_type": "stream",
     "text": [
      "0.9666666666666667\n"
     ]
    }
   ],
   "source": [
    "knn = KNeighborsClassifier(n_neighbors=5)\n",
    "knn.fit(X_train,y_train)\n",
    "y_pred = knn.predict(X_test)\n",
    "print(metrics.accuracy_score(y_test,y_pred))"
   ]
  },
  {
   "cell_type": "markdown",
   "metadata": {
    "_cell_guid": "19413d9e-f082-4ccd-a012-94b7c3a86a59",
    "_uuid": "4d3f7632b6861af4213c3ba1716d2bd6e7f48cd9"
   },
   "source": [
    "# Repeat for KNN with K = 1"
   ]
  },
  {
   "cell_type": "code",
   "execution_count": 15,
   "metadata": {
    "_cell_guid": "23f0a92c-0890-4215-abee-5e928d5c7c03",
    "_uuid": "d1225e56abbe4dbfcc1eff44ff4914f5b7983700"
   },
   "outputs": [
    {
     "name": "stdout",
     "output_type": "stream",
     "text": [
      "0.95\n"
     ]
    }
   ],
   "source": [
    "knn = KNeighborsClassifier(n_neighbors=1)\n",
    "knn.fit(X_train,y_train)\n",
    "y_pred = knn.predict(X_test)\n",
    "print(metrics.accuracy_score(y_test,y_pred))"
   ]
  },
  {
   "cell_type": "markdown",
   "metadata": {
    "_cell_guid": "c819a9c7-f614-45ca-872a-13a1dad0d320",
    "_uuid": "e677406cb6b3e662f2a562d06b10444d1dd0307b"
   },
   "source": [
    "# Can we locate an even better value for K?"
   ]
  },
  {
   "cell_type": "code",
   "execution_count": 16,
   "metadata": {
    "_cell_guid": "8c3e2e5c-929d-4ae1-81f3-dd3a9515f7eb",
    "_uuid": "ced0c00d394fcefc793d0a1568a464f396223d6d"
   },
   "outputs": [
    {
     "name": "stdout",
     "output_type": "stream",
     "text": [
      "[0.95, 0.95, 0.9666666666666667, 0.9666666666666667, 0.9666666666666667, 0.9833333333333333, 0.9833333333333333, 0.9833333333333333, 0.9833333333333333, 0.9833333333333333, 0.9833333333333333, 0.9833333333333333, 0.9833333333333333, 0.9833333333333333, 0.9833333333333333, 0.9833333333333333, 0.9833333333333333, 0.9666666666666667, 0.9833333333333333, 0.9666666666666667, 0.9666666666666667, 0.9666666666666667, 0.9666666666666667, 0.95, 0.95]\n"
     ]
    }
   ],
   "source": [
    "# try k=1 through k=25 and record testing accuracy\n",
    "k_range = range(1,26)\n",
    "scores = []\n",
    "for k in k_range:\n",
    "    knn = KNeighborsClassifier(n_neighbors=k)\n",
    "    knn.fit(X_train,y_train)\n",
    "    y_pred = knn.predict(X_test)\n",
    "    scores.append(metrics.accuracy_score(y_test,y_pred))\n",
    "print(scores)"
   ]
  },
  {
   "cell_type": "code",
   "execution_count": 17,
   "metadata": {
    "_cell_guid": "d75351a6-ee29-406a-945c-7e17c330930b",
    "_uuid": "7c1161e4864fb2e3042d21ffaf82e98d208b3d8c"
   },
   "outputs": [
    {
     "data": {
      "image/png": "[encoded data removed]",
      "text/plain": [
       "<Figure size 432x288 with 1 Axes>"
      ]
     },
     "metadata": {
      "needs_background": "light"
     },
     "output_type": "display_data"
    }
   ],
   "source": [
    "#import matplotlib (scientific plotting library)\n",
    "import matplotlib.pyplot as plt\n",
    "\n",
    "#allow plots to appear within the notebook\n",
    "%matplotlib inline\n",
    "\n",
    "#plot the relation ship between k and the testing accuracy\n",
    "plt.plot(k_range, scores, 'g-') # third parameter defines type and color of the line. -- dotted line, ^ triangles, s squares.\n",
    "plt.xlabel('values for k in KNN')\n",
    "plt.ylabel('Testing accuracy')\n",
    "plt.show() #displays the figures"
   ]
  },
  {
   "cell_type": "markdown",
   "metadata": {
    "_cell_guid": "74f57d7e-f100-4d1b-b40b-4ac03af53eab",
    "_uuid": "35325a21b975b9d1c0bbe0daba386de21546aa8b"
   },
   "source": [
    "* **Training accuracy** rises as model complexity increases\n",
    "* **Testing accuracy** penalizes models that are too complex or not complex enough.\n",
    "* For KNN models, complexity is determined by the **value of k** (lower value = more complex)"
   ]
  },
  {
   "cell_type": "markdown",
   "metadata": {
    "_cell_guid": "983e6b3f-1a95-4cf1-af02-b8a58a77af2b",
    "_uuid": "332104a6596bef80a2ae9ff0d4dc86acc07e5359"
   },
   "source": [
    "# Making prediction on out-of-sample data"
   ]
  },
  {
   "cell_type": "code",
   "execution_count": 18,
   "metadata": {
    "_cell_guid": "dfded989-42ac-4b54-895a-e3cf27148f22",
    "_uuid": "8006e61e4084c798b254b7929b9193ef224a43fc"
   },
   "outputs": [
    {
     "data": {
      "text/plain": [
       "array([1])"
      ]
     },
     "execution_count": 18,
     "metadata": {},
     "output_type": "execute_result"
    }
   ],
   "source": [
    "#instantiate the model with the best known parameter\n",
    "knn = KNeighborsClassifier(n_neighbors=11)\n",
    "\n",
    "#train the model with X and y (not X_train and y_train)\n",
    "knn.fit(X,y)\n",
    "\n",
    "#make prediction for an out-of-sample data\n",
    "knn.predict([[3,5,4,2]]) #use 2D array otherwise it will give a valueError. Alternatively use reshape(1,-1) or reshape(-1,1) as below."
   ]
  },
  {
   "cell_type": "code",
   "execution_count": 19,
   "metadata": {
    "_cell_guid": "18f5cd91-6d76-4a6e-9767-99bc5bcbd891",
    "_uuid": "baffe8e159dd0f18de4d07113d524965894c5021"
   },
   "outputs": [
    {
     "data": {
      "text/plain": [
       "array([[3, 5, 4, 2]])"
      ]
     },
     "execution_count": 19,
     "metadata": {},
     "output_type": "execute_result"
    }
   ],
   "source": [
    "a = np.array([3,5,4,2])\n",
    "a.shape\n",
    "a.reshape(1,-1)"
   ]
  },
  {
   "cell_type": "code",
   "execution_count": 20,
   "metadata": {
    "_cell_guid": "cceb55f8-d7d2-44cb-ae4c-f6be9f14435b",
    "_uuid": "4dd4f0ac8044a7a407da8ef9b4bcab892a70394b"
   },
   "outputs": [
    {
     "data": {
      "text/plain": [
       "array([[3],\n",
       "       [5],\n",
       "       [4],\n",
       "       [2]])"
      ]
     },
     "execution_count": 20,
     "metadata": {},
     "output_type": "execute_result"
    }
   ],
   "source": [
    "a.reshape(-1,1)"
   ]
  },
  {
   "cell_type": "markdown",
   "metadata": {
    "_cell_guid": "2250863c-eb83-4270-a37e-80e7a5c2d326",
    "_uuid": "9730dc8947119bc2bde1d17d0547ffe2ed398b32",
    "collapsed": true
   },
   "source": [
    "# Downside of train/test split\n",
    "* Provides a **high-variance estimate** of out of sample accuracy\n",
    "* **K-fold cross-validation** overcomes this limitation\n",
    "* But, train/test split is still useful because of its **flexibility & speed**"
   ]
  },
  {
   "cell_type": "code",
   "execution_count": null,
   "metadata": {
    "_uuid": "aa4f68f7230bdc3182312d860d7b58f58a1bcd29",
    "collapsed": true
   },
   "outputs": [],
   "source": []
  }
 ],
 "metadata": {
  "kernelspec": {
   "display_name": "Python 3",
   "language": "python",
   "name": "python3"
  },
  "language_info": {
   "codemirror_mode": {
    "name": "ipython",
    "version": 3
   },
   "file_extension": ".py",
   "mimetype": "text/x-python",
   "name": "python",
   "nbconvert_exporter": "python",
   "pygments_lexer": "ipython3",
   "version": "3.7.0"
  }
 },
 "nbformat": 4,
 "nbformat_minor": 1
}
